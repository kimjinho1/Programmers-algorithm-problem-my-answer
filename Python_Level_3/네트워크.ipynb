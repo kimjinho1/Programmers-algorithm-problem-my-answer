{
 "cells": [
  {
   "cell_type": "code",
   "execution_count": null,
   "metadata": {},
   "outputs": [],
   "source": [
    "\"\"\"\n",
    "문제 설명\n",
    "네트워크란 컴퓨터 상호 간에 정보를 교환할 수 있도록 연결된 형태를 의미합니다. \n",
    "예를 들어, 컴퓨터 A와 컴퓨터 B가 직접적으로 연결되어있고, 컴퓨터 B와 컴퓨터 C가 직접적으로 \n",
    "연결되어 있을 때 컴퓨터 A와 컴퓨터 C도 간접적으로 연결되어 정보를 교환할 수 있습니다. \n",
    "따라서 컴퓨터 A, B, C는 모두 같은 네트워크 상에 있다고 할 수 있습니다.\n",
    "\n",
    "컴퓨터의 개수 n, 연결에 대한 정보가 담긴 2차원 배열 computers가 매개변수로 주어질 때, \n",
    "네트워크의 개수를 return 하도록 solution 함수를 작성하시오.\n",
    "\n",
    "제한사항\n",
    "컴퓨터의 개수 n은 1 이상 200 이하인 자연수입니다.\n",
    "각 컴퓨터는 0부터 n-1인 정수로 표현합니다.\n",
    "i번 컴퓨터와 j번 컴퓨터가 연결되어 있으면 computers[i][j]를 1로 표현합니다.\n",
    "computer[i][i]는 항상 1입니다.\n",
    "\n",
    "입출력 예\n",
    "n computers\t                           return\n",
    "3 [[1, 1, 0], [1, 1, 0], [0, 0, 1]] -> 2\n",
    "3 [[1, 1, 0], [1, 1, 1], [0, 1, 1]] -> 1\n",
    "\"\"\""
   ]
  },
  {
   "cell_type": "code",
   "execution_count": 49,
   "metadata": {
    "ExecuteTime": {
     "end_time": "2021-07-14T16:49:56.923533Z",
     "start_time": "2021-07-14T16:49:56.911536Z"
    }
   },
   "outputs": [],
   "source": [
    "def solution(n, computers):\n",
    "    def dfs(node):\n",
    "        if graph[node] and check[node] == 0:\n",
    "            check[node] = 1\n",
    "            for n in graph[node]:\n",
    "                dfs(n)\n",
    "    \n",
    "    graph = [[]]\n",
    "    for i in range(n):\n",
    "        graph.append([j+1 for j in range(n) if computers[i][j] == 1 and i != j])\n",
    "    \n",
    "    check = [0]*(n+1)\n",
    "    ans = 0\n",
    "    for i in range(1, n+1):\n",
    "        if check[i] == 0:\n",
    "            dfs(i)\n",
    "            ans += 1\n",
    "\n",
    "    return ans"
   ]
  },
  {
   "cell_type": "code",
   "execution_count": 67,
   "metadata": {
    "ExecuteTime": {
     "end_time": "2021-07-14T16:54:16.694042Z",
     "start_time": "2021-07-14T16:54:16.683074Z"
    }
   },
   "outputs": [],
   "source": [
    "from collections import deque\n",
    "\n",
    "def solution(n, computers):\n",
    "    def bfs(node):\n",
    "        q = deque([node])\n",
    "        while q:\n",
    "            node = q.popleft()\n",
    "            if graph[node] and check[node] == 0:\n",
    "                check[node] = 1\n",
    "                for n in graph[node]:\n",
    "                    q.append(n)\n",
    "    \n",
    "    graph = [[]]\n",
    "    for i in range(n):\n",
    "        graph.append([j+1 for j in range(n) if computers[i][j] == 1 and i != j])\n",
    "    \n",
    "    check = [0]*(n+1)\n",
    "    ans = 0\n",
    "    for i in range(1, n+1):\n",
    "        if check[i] == 0:\n",
    "            bfs(i)\n",
    "            ans += 1\n",
    "\n",
    "    return ans"
   ]
  },
  {
   "cell_type": "code",
   "execution_count": 68,
   "metadata": {
    "ExecuteTime": {
     "end_time": "2021-07-14T16:54:16.866828Z",
     "start_time": "2021-07-14T16:54:16.854862Z"
    }
   },
   "outputs": [
    {
     "data": {
      "text/plain": [
       "2"
      ]
     },
     "execution_count": 68,
     "metadata": {},
     "output_type": "execute_result"
    }
   ],
   "source": [
    "solution(3, [[1, 1, 0], [1, 1, 0], [0, 0, 1]])"
   ]
  },
  {
   "cell_type": "code",
   "execution_count": 69,
   "metadata": {
    "ExecuteTime": {
     "end_time": "2021-07-14T16:54:17.068494Z",
     "start_time": "2021-07-14T16:54:17.057523Z"
    }
   },
   "outputs": [
    {
     "data": {
      "text/plain": [
       "1"
      ]
     },
     "execution_count": 69,
     "metadata": {},
     "output_type": "execute_result"
    }
   ],
   "source": [
    "solution(3, [[1, 1, 0], [1, 1, 1], [0, 1, 1]])"
   ]
  },
  {
   "cell_type": "code",
   "execution_count": null,
   "metadata": {},
   "outputs": [],
   "source": []
  },
  {
   "cell_type": "code",
   "execution_count": null,
   "metadata": {},
   "outputs": [],
   "source": []
  }
 ],
 "metadata": {
  "kernelspec": {
   "display_name": "Python 3",
   "language": "python",
   "name": "python3"
  },
  "language_info": {
   "codemirror_mode": {
    "name": "ipython",
    "version": 3
   },
   "file_extension": ".py",
   "mimetype": "text/x-python",
   "name": "python",
   "nbconvert_exporter": "python",
   "pygments_lexer": "ipython3",
   "version": "3.8.5"
  },
  "toc": {
   "base_numbering": 1,
   "nav_menu": {},
   "number_sections": true,
   "sideBar": true,
   "skip_h1_title": false,
   "title_cell": "Table of Contents",
   "title_sidebar": "Contents",
   "toc_cell": false,
   "toc_position": {},
   "toc_section_display": true,
   "toc_window_display": false
  },
  "varInspector": {
   "cols": {
    "lenName": 16,
    "lenType": 16,
    "lenVar": 40
   },
   "kernels_config": {
    "python": {
     "delete_cmd_postfix": "",
     "delete_cmd_prefix": "del ",
     "library": "var_list.py",
     "varRefreshCmd": "print(var_dic_list())"
    },
    "r": {
     "delete_cmd_postfix": ") ",
     "delete_cmd_prefix": "rm(",
     "library": "var_list.r",
     "varRefreshCmd": "cat(var_dic_list()) "
    }
   },
   "types_to_exclude": [
    "module",
    "function",
    "builtin_function_or_method",
    "instance",
    "_Feature"
   ],
   "window_display": false
  }
 },
 "nbformat": 4,
 "nbformat_minor": 2
}
