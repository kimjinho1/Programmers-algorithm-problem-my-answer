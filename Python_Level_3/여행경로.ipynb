{
 "cells": [
  {
   "cell_type": "code",
   "execution_count": null,
   "id": "b35ce97a",
   "metadata": {},
   "outputs": [],
   "source": [
    "\"\"\"\n",
    "문제 설명\n",
    "주어진 항공권을 모두 이용하여 여행경로를 짜려고 합니다. 항상 \"ICN\" 공항에서 출발합니다.\n",
    "\n",
    "항공권 정보가 담긴 2차원 배열 tickets가 매개변수로 주어질 때, 방문하는 공항 경로를 \n",
    "배열에 담아 return 하도록 solution 함수를 작성해주세요.\n",
    "\n",
    "제한사항\n",
    "모든 공항은 알파벳 대문자 3글자로 이루어집니다.\n",
    "주어진 공항 수는 3개 이상 10,000개 이하입니다.\n",
    "tickets의 각 행 [a, b]는 a 공항에서 b 공항으로 가는 항공권이 있다는 의미입니다.\n",
    "주어진 항공권은 모두 사용해야 합니다.\n",
    "만일 가능한 경로가 2개 이상일 경우 알파벳 순서가 앞서는 경로를 return 합니다.\n",
    "모든 도시를 방문할 수 없는 경우는 주어지지 않습니다.\n",
    "\n",
    "입출력 예\n",
    "tickets                                             return\n",
    "[[\"ICN\", \"JFK\"], [\"HND\", \"IAD\"], [\"JFK\", \"HND\"]] -> [\"ICN\", \"JFK\", \"HND\", \"IAD\"]\n",
    "\"\"\""
   ]
  },
  {
   "cell_type": "code",
   "execution_count": 392,
   "id": "193758c5",
   "metadata": {
    "ExecuteTime": {
     "end_time": "2021-07-14T15:11:13.812692Z",
     "start_time": "2021-07-14T15:11:13.802062Z"
    }
   },
   "outputs": [],
   "source": [
    "from collections import deque, defaultdict\n",
    "from copy import deepcopy\n",
    "\n",
    "def solution(tickets):\n",
    "    graph = defaultdict(list)\n",
    "    for s, e in tickets:\n",
    "        graph[s].append(e)\n",
    "    for k in graph.keys():\n",
    "        graph[k].sort()\n",
    "    \n",
    "    route = [\"ICN\"]\n",
    "    q = deque([[graph, route, \"ICN\"]])\n",
    "    while q:\n",
    "        d, route, node = q.popleft()\n",
    "        if len(route) == len(tickets)+1:\n",
    "            return route\n",
    "        for i, n in enumerate(d[node]):\n",
    "            td = deepcopy(d)\n",
    "            del(td[node][i])\n",
    "            q.append([td, route+[n], n])"
   ]
  },
  {
   "cell_type": "code",
   "execution_count": 434,
   "id": "edee930f",
   "metadata": {
    "ExecuteTime": {
     "end_time": "2021-07-14T16:04:51.846948Z",
     "start_time": "2021-07-14T16:04:51.822463Z"
    }
   },
   "outputs": [],
   "source": [
    "from collections import defaultdict\n",
    "\n",
    "def dfs(N, graph, route, node):\n",
    "    if len(route) == N+1:\n",
    "        return route\n",
    "    for i, n in enumerate(graph[node]):\n",
    "        graph[node].pop(i)\n",
    "        ret = dfs(N, graph, route+[n], n)\n",
    "        graph[node].insert(i, n)\n",
    "        if ret:\n",
    "            return ret\n",
    "        \n",
    "def solution(tickets):\n",
    "    N = len(tickets)\n",
    "    graph = defaultdict(list)\n",
    "    for s, e in tickets:\n",
    "        graph[s].append(e)\n",
    "    for k in graph:\n",
    "        graph[k].sort()\n",
    "    \n",
    "    route = dfs(N, graph, [\"ICN\"], \"ICN\") \n",
    "    return route"
   ]
  },
  {
   "cell_type": "code",
   "execution_count": 424,
   "id": "97fb84c8",
   "metadata": {
    "ExecuteTime": {
     "end_time": "2021-07-14T16:03:58.844173Z",
     "start_time": "2021-07-14T16:03:58.833174Z"
    }
   },
   "outputs": [
    {
     "name": "stdout",
     "output_type": "stream",
     "text": [
      "1626278638.8341713\n",
      "1626278638.8341713\n",
      "time : 0.0\n"
     ]
    },
    {
     "data": {
      "text/plain": [
       "['ICN', 'JFK', 'HND', 'IAD']"
      ]
     },
     "execution_count": 424,
     "metadata": {},
     "output_type": "execute_result"
    }
   ],
   "source": [
    "solution([[\"ICN\", \"JFK\"], [\"HND\", \"IAD\"], [\"JFK\", \"HND\"]])"
   ]
  },
  {
   "cell_type": "code",
   "execution_count": 425,
   "id": "c435bc80",
   "metadata": {
    "ExecuteTime": {
     "end_time": "2021-07-14T16:03:59.280231Z",
     "start_time": "2021-07-14T16:03:59.255296Z"
    }
   },
   "outputs": [
    {
     "name": "stdout",
     "output_type": "stream",
     "text": [
      "1626278639.2582886\n",
      "1626278639.2582886\n",
      "time : 0.0\n"
     ]
    },
    {
     "data": {
      "text/plain": [
       "['ICN', 'ATL', 'ICN', 'SFO', 'ATL', 'SFO']"
      ]
     },
     "execution_count": 425,
     "metadata": {},
     "output_type": "execute_result"
    }
   ],
   "source": [
    "solution([[\"ICN\", \"SFO\"], [\"ICN\", \"ATL\"], [\"SFO\", \"ATL\"], [\"ATL\", \"ICN\"], [\"ATL\",\"SFO\"]])"
   ]
  },
  {
   "cell_type": "code",
   "execution_count": 450,
   "id": "9417a863",
   "metadata": {
    "ExecuteTime": {
     "end_time": "2021-07-14T16:07:27.424254Z",
     "start_time": "2021-07-14T16:07:27.414278Z"
    }
   },
   "outputs": [
    {
     "data": {
      "text/plain": [
       "['ICN', 'BOO', 'DOO', 'BOO', 'ICN', 'COO', 'DOO', 'COO', 'BOO']"
      ]
     },
     "execution_count": 450,
     "metadata": {},
     "output_type": "execute_result"
    }
   ],
   "source": [
    "solution([[\"ICN\", \"BOO\"], [\"ICN\", \"COO\"], [\"COO\", \"DOO\"], [\"DOO\", \"COO\"], [\"BOO\", \"DOO\"], [\"DOO\", \"BOO\"], [\"BOO\", \"ICN\"], [\"COO\", \"BOO\"]])"
   ]
  },
  {
   "cell_type": "code",
   "execution_count": null,
   "id": "51ef55b2",
   "metadata": {},
   "outputs": [],
   "source": []
  },
  {
   "cell_type": "code",
   "execution_count": null,
   "id": "ae4c8367",
   "metadata": {},
   "outputs": [],
   "source": []
  }
 ],
 "metadata": {
  "kernelspec": {
   "display_name": "Python 3",
   "language": "python",
   "name": "python3"
  },
  "language_info": {
   "codemirror_mode": {
    "name": "ipython",
    "version": 3
   },
   "file_extension": ".py",
   "mimetype": "text/x-python",
   "name": "python",
   "nbconvert_exporter": "python",
   "pygments_lexer": "ipython3",
   "version": "3.8.5"
  },
  "toc": {
   "base_numbering": 1,
   "nav_menu": {},
   "number_sections": true,
   "sideBar": true,
   "skip_h1_title": false,
   "title_cell": "Table of Contents",
   "title_sidebar": "Contents",
   "toc_cell": false,
   "toc_position": {},
   "toc_section_display": true,
   "toc_window_display": false
  },
  "varInspector": {
   "cols": {
    "lenName": 16,
    "lenType": 16,
    "lenVar": 40
   },
   "kernels_config": {
    "python": {
     "delete_cmd_postfix": "",
     "delete_cmd_prefix": "del ",
     "library": "var_list.py",
     "varRefreshCmd": "print(var_dic_list())"
    },
    "r": {
     "delete_cmd_postfix": ") ",
     "delete_cmd_prefix": "rm(",
     "library": "var_list.r",
     "varRefreshCmd": "cat(var_dic_list()) "
    }
   },
   "types_to_exclude": [
    "module",
    "function",
    "builtin_function_or_method",
    "instance",
    "_Feature"
   ],
   "window_display": false
  }
 },
 "nbformat": 4,
 "nbformat_minor": 5
}
