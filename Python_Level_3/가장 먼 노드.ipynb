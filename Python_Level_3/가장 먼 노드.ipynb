{
 "cells": [
  {
   "cell_type": "code",
   "execution_count": null,
   "id": "a64e9387",
   "metadata": {},
   "outputs": [],
   "source": [
    "\"\"\"문제 설명\n",
    "n개의 노드가 있는 그래프가 있습니다. 각 노드는 1부터 n까지 번호가 적혀있습니다.\n",
    "1번 노드에서 가장 멀리 떨어진 노드의 갯수를 구하려고 합니다. \n",
    "가장 멀리 떨어진 노드란 최단경로로 이동했을 때 간선의 개수가 가장 많은 노드들을 의미합니다.\n",
    "\n",
    "노드의 개수 n, 간선에 대한 정보가 담긴 2차원 배열 vertex가 매개변수로 주어질 때, \n",
    "1번 노드로부터 가장 멀리 떨어진 노드가 몇 개인지를 return 하도록 solution 함수를 작성해주세요.\n",
    "\n",
    "제한사항\n",
    "노드의 개수 n은 2 이상 20,000 이하입니다.\n",
    "간선은 양방향이며 총 1개 이상 50,000개 이하의 간선이 있습니다.\n",
    "vertex 배열 각 행 [a, b]는 a번 노드와 b번 노드 사이에 간선이 있다는 의미입니다.\n",
    "\n",
    "입출력 예\n",
    "n  vertex                                                   return\n",
    "6  [[3, 6], [4, 3], [3, 2], [1, 3], [1, 2], [2, 4], [5, 2]] -> 3\n",
    "\"\"\""
   ]
  },
  {
   "cell_type": "code",
   "execution_count": 21,
   "id": "71c5c735",
   "metadata": {
    "ExecuteTime": {
     "end_time": "2021-07-13T06:59:47.769860Z",
     "start_time": "2021-07-13T06:59:47.743949Z"
    }
   },
   "outputs": [],
   "source": [
    "from collections import deque\n",
    "\n",
    "def solution(N, edge):\n",
    "    graph = [[] for _ in range(N+1)]\n",
    "    for a, b in edge:\n",
    "        graph[a].append(b)\n",
    "        graph[b].append(a)\n",
    "    \n",
    "    q = deque([1])\n",
    "    check_li = [-1]*(N+1)\n",
    "    check_li[1] = 0\n",
    "    while q:\n",
    "        node = q.popleft()\n",
    "        for n in graph[node]:\n",
    "            if 0 < n <= N and check_li[n] == -1:\n",
    "                q.append(n)\n",
    "                check_li[n] = check_li[node] + 1\n",
    "                    \n",
    "    ans = check_li.count(max(check_li))\n",
    "    return ans"
   ]
  },
  {
   "cell_type": "code",
   "execution_count": 22,
   "id": "312a6b25",
   "metadata": {
    "ExecuteTime": {
     "end_time": "2021-07-13T06:59:48.129144Z",
     "start_time": "2021-07-13T06:59:48.104211Z"
    }
   },
   "outputs": [
    {
     "data": {
      "text/plain": [
       "3"
      ]
     },
     "execution_count": 22,
     "metadata": {},
     "output_type": "execute_result"
    }
   ],
   "source": [
    "solution(6, [[3, 6], [4, 3], [3, 2], [1, 3], [1, 2], [2, 4], [5, 2]])"
   ]
  },
  {
   "cell_type": "code",
   "execution_count": null,
   "id": "21427b80",
   "metadata": {},
   "outputs": [],
   "source": []
  }
 ],
 "metadata": {
  "kernelspec": {
   "display_name": "Python 3",
   "language": "python",
   "name": "python3"
  },
  "language_info": {
   "codemirror_mode": {
    "name": "ipython",
    "version": 3
   },
   "file_extension": ".py",
   "mimetype": "text/x-python",
   "name": "python",
   "nbconvert_exporter": "python",
   "pygments_lexer": "ipython3",
   "version": "3.8.5"
  },
  "toc": {
   "base_numbering": 1,
   "nav_menu": {},
   "number_sections": true,
   "sideBar": true,
   "skip_h1_title": false,
   "title_cell": "Table of Contents",
   "title_sidebar": "Contents",
   "toc_cell": false,
   "toc_position": {},
   "toc_section_display": true,
   "toc_window_display": false
  },
  "varInspector": {
   "cols": {
    "lenName": 16,
    "lenType": 16,
    "lenVar": 40
   },
   "kernels_config": {
    "python": {
     "delete_cmd_postfix": "",
     "delete_cmd_prefix": "del ",
     "library": "var_list.py",
     "varRefreshCmd": "print(var_dic_list())"
    },
    "r": {
     "delete_cmd_postfix": ") ",
     "delete_cmd_prefix": "rm(",
     "library": "var_list.r",
     "varRefreshCmd": "cat(var_dic_list()) "
    }
   },
   "types_to_exclude": [
    "module",
    "function",
    "builtin_function_or_method",
    "instance",
    "_Feature"
   ],
   "window_display": false
  }
 },
 "nbformat": 4,
 "nbformat_minor": 5
}
