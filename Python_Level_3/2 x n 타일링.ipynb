{
 "cells": [
  {
   "cell_type": "code",
   "execution_count": null,
   "metadata": {},
   "outputs": [],
   "source": [
    "\"\"\"\n",
    "문제 설명\n",
    "가로 길이가 2이고 세로의 길이가 1인 직사각형모양의 타일이 있습니다. 이 직사각형 타일을 이용하여 \n",
    "세로의 길이가 2이고 가로의 길이가 n인 바닥을 가득 채우려고 합니다. 타일을 채울 때는 다음과 같이 2가지 방법이 있습니다.\n",
    "\n",
    "타일을 가로로 배치 하는 경우\n",
    "타일을 세로로 배치 하는 경우\n",
    "예를들어서 n이 7인 직사각형은 다음과 같이 채울 수 있습니다.\n",
    "\n",
    "Imgur\n",
    "\n",
    "직사각형의 가로의 길이 n이 매개변수로 주어질 때, 이 직사각형을 채우는 방법의 수를 return 하는 solution \n",
    "함수를 완성해주세요.\n",
    "\n",
    "제한사항\n",
    "가로의 길이 n은 60,000이하의 자연수 입니다.\n",
    "경우의 수가 많아 질 수 있으므로, 경우의 수를 1,000,000,007으로 나눈 나머지를 return해주세요.\n",
    "\"\"\""
   ]
  },
  {
   "cell_type": "code",
   "execution_count": null,
   "metadata": {},
   "outputs": [],
   "source": [
    "def solution(n):\n",
    "    n1, n2 = 1, 2\n",
    "    if n == 1:\n",
    "        return n1\n",
    "    elif n == 2:\n",
    "        return n2\n",
    "    else:\n",
    "        for i in range(2, n):\n",
    "            n1, n2 = n2, n1+n2\n",
    "        return (n2)%1000000007"
   ]
  },
  {
   "cell_type": "code",
   "execution_count": 57,
   "metadata": {},
   "outputs": [],
   "source": [
    "def solution(n):\n",
    "    a, b = 1, 1\n",
    "    for i in range(n):\n",
    "        a, b = b, a+b\n",
    "    return (a)%1000000007"
   ]
  },
  {
   "cell_type": "code",
   "execution_count": 58,
   "metadata": {},
   "outputs": [
    {
     "data": {
      "text/plain": [
       "441423758"
      ]
     },
     "execution_count": 58,
     "metadata": {},
     "output_type": "execute_result"
    }
   ],
   "source": [
    "solution(50000)"
   ]
  },
  {
   "cell_type": "code",
   "execution_count": null,
   "metadata": {},
   "outputs": [],
   "source": []
  }
 ],
 "metadata": {
  "kernelspec": {
   "display_name": "Python 3",
   "language": "python",
   "name": "python3"
  },
  "language_info": {
   "codemirror_mode": {
    "name": "ipython",
    "version": 3
   },
   "file_extension": ".py",
   "mimetype": "text/x-python",
   "name": "python",
   "nbconvert_exporter": "python",
   "pygments_lexer": "ipython3",
   "version": "3.6.8"
  }
 },
 "nbformat": 4,
 "nbformat_minor": 2
}
