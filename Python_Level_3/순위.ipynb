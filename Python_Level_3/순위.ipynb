{
 "cells": [
  {
   "cell_type": "code",
   "execution_count": null,
   "id": "6a583b29",
   "metadata": {},
   "outputs": [],
   "source": [
    "\"\"\"문제 설명\n",
    "n명의 권투선수가 권투 대회에 참여했고 각각 1번부터 n번까지 번호를 받았습니다. \n",
    "권투 경기는 1대1 방식으로 진행이 되고, 만약 A 선수가 B 선수보다 실력이 좋다면 \n",
    "A 선수는 B 선수를 항상 이깁니다. 심판은 주어진 경기 결과를 가지고 선수들의 순위를 매기려 합니다. \n",
    "하지만 몇몇 경기 결과를 분실하여 정확하게 순위를 매길 수 없습니다.\n",
    "\n",
    "선수의 수 n, 경기 결과를 담은 2차원 배열 results가 매개변수로 주어질 때 정확하게 \n",
    "순위를 매길 수 있는 선수의 수를 return 하도록 solution 함수를 작성해주세요.\n",
    "\n",
    "제한사항\n",
    "선수의 수는 1명 이상 100명 이하입니다.\n",
    "경기 결과는 1개 이상 4,500개 이하입니다.\n",
    "results 배열 각 행 [A, B]는 A 선수가 B 선수를 이겼다는 의미입니다.\n",
    "모든 경기 결과에는 모순이 없습니다.\n",
    "\n",
    "입출력 예\n",
    "n   results                                     return\n",
    "5   [[4, 3], [4, 2], [3, 2], [1, 2], [2, 5]] -> 2\n",
    "\"\"\""
   ]
  },
  {
   "cell_type": "code",
   "execution_count": 5,
   "id": "b35ec576",
   "metadata": {
    "ExecuteTime": {
     "end_time": "2021-07-13T09:05:51.297837Z",
     "start_time": "2021-07-13T09:05:51.278852Z"
    }
   },
   "outputs": [],
   "source": [
    "def solution(n, results):\n",
    "    graph = [[0]*n for i in range(n)]\n",
    "    for a, b in results:\n",
    "        graph[a-1][b-1] = 1\n",
    "        graph[b-1][a-1] = -1\n",
    "        \n",
    "    for k in range(n):\n",
    "        for i in range(n):\n",
    "            for j in range(n):\n",
    "                if graph[i][k] == 1 and graph[k][j] == 1:\n",
    "                    graph[i][j] = 1\n",
    "                if graph[i][k] == -1 and graph[k][j] == -1:\n",
    "                    graph[i][j] = -1\n",
    "    \n",
    "    ans = 0\n",
    "    for li in graph:\n",
    "        if li.count(0) == 1:\n",
    "            ans += 1\n",
    "    return ans"
   ]
  },
  {
   "cell_type": "code",
   "execution_count": 6,
   "id": "93a66b0b",
   "metadata": {
    "ExecuteTime": {
     "end_time": "2021-07-13T09:05:51.455742Z",
     "start_time": "2021-07-13T09:05:51.443736Z"
    }
   },
   "outputs": [
    {
     "data": {
      "text/plain": [
       "2"
      ]
     },
     "execution_count": 6,
     "metadata": {},
     "output_type": "execute_result"
    }
   ],
   "source": [
    "solution(5, [[4, 3], [4, 2], [3, 2], [1, 2], [2, 5]])"
   ]
  },
  {
   "cell_type": "code",
   "execution_count": null,
   "id": "ac3e42d8",
   "metadata": {},
   "outputs": [],
   "source": []
  }
 ],
 "metadata": {
  "kernelspec": {
   "display_name": "Python 3",
   "language": "python",
   "name": "python3"
  },
  "language_info": {
   "codemirror_mode": {
    "name": "ipython",
    "version": 3
   },
   "file_extension": ".py",
   "mimetype": "text/x-python",
   "name": "python",
   "nbconvert_exporter": "python",
   "pygments_lexer": "ipython3",
   "version": "3.8.5"
  },
  "toc": {
   "base_numbering": 1,
   "nav_menu": {},
   "number_sections": true,
   "sideBar": true,
   "skip_h1_title": false,
   "title_cell": "Table of Contents",
   "title_sidebar": "Contents",
   "toc_cell": false,
   "toc_position": {},
   "toc_section_display": true,
   "toc_window_display": false
  },
  "varInspector": {
   "cols": {
    "lenName": 16,
    "lenType": 16,
    "lenVar": 40
   },
   "kernels_config": {
    "python": {
     "delete_cmd_postfix": "",
     "delete_cmd_prefix": "del ",
     "library": "var_list.py",
     "varRefreshCmd": "print(var_dic_list())"
    },
    "r": {
     "delete_cmd_postfix": ") ",
     "delete_cmd_prefix": "rm(",
     "library": "var_list.r",
     "varRefreshCmd": "cat(var_dic_list()) "
    }
   },
   "types_to_exclude": [
    "module",
    "function",
    "builtin_function_or_method",
    "instance",
    "_Feature"
   ],
   "window_display": false
  }
 },
 "nbformat": 4,
 "nbformat_minor": 5
}
