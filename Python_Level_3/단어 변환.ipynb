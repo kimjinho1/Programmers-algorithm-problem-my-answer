{
 "cells": [
  {
   "cell_type": "code",
   "execution_count": null,
   "id": "cc81017c",
   "metadata": {},
   "outputs": [],
   "source": [
    "\"\"\"\n",
    "문제 설명\n",
    "두 개의 단어 begin, target과 단어의 집합 words가 있습니다. \n",
    "아래와 같은 규칙을 이용하여 begin에서 target으로 변환하는 가장 짧은 변환 과정을 찾으려고 합니다.\n",
    "\n",
    "1. 한 번에 한 개의 알파벳만 바꿀 수 있습니다.\n",
    "2. words에 있는 단어로만 변환할 수 있습니다.\n",
    "예를 들어 begin이 \"hit\", target가 \"cog\", words가 [\"hot\",\"dot\",\"dog\",\"lot\",\"log\",\"cog\"]라면 \n",
    "\"hit\" -> \"hot\" -> \"dot\" -> \"dog\" -> \"cog\"와 같이 4단계를 거쳐 변환할 수 있습니다.\n",
    "\n",
    "두 개의 단어 begin, target과 단어의 집합 words가 매개변수로 주어질 때, 최소 몇 단계의 과정을 \n",
    "거쳐 begin을 target으로 변환할 수 있는지 return 하도록 solution 함수를 작성해주세요.\n",
    "\n",
    "제한사항\n",
    "각 단어는 알파벳 소문자로만 이루어져 있습니다.\n",
    "각 단어의 길이는 3 이상 10 이하이며 모든 단어의 길이는 같습니다.\n",
    "words에는 3개 이상 50개 이하의 단어가 있으며 중복되는 단어는 없습니다.\n",
    "begin과 target은 같지 않습니다.\n",
    "변환할 수 없는 경우에는 0를 return 합니다.\n",
    "\n",
    "입출력 예\n",
    "begin target words                                      -> return\n",
    "\"hit\" \"cog\"  [\"hot\", \"dot\", \"dog\", \"lot\", \"log\", \"cog\"]\t   4\n",
    "\"hit\" cog\"   [\"hot\", \"dot\", \"dog\", \"lot\", \"log\"]        -> 0\n",
    "\"\"\""
   ]
  },
  {
   "cell_type": "code",
   "execution_count": 143,
   "id": "ac39e48a",
   "metadata": {
    "ExecuteTime": {
     "end_time": "2021-07-15T03:35:36.415211Z",
     "start_time": "2021-07-15T03:35:36.390350Z"
    }
   },
   "outputs": [],
   "source": [
    "def diff(N, s1, s2):\n",
    "    cnt = 0\n",
    "    for i in range(N):\n",
    "        if s1[i] != s2[i]:\n",
    "            cnt += 1\n",
    "    return cnt\n",
    "\n",
    "def solution(begin, target, words):\n",
    "    def dfs(cnt, node, li, route):\n",
    "        if node == target:\n",
    "            res.append(cnt)\n",
    "        for i, n in enumerate(li):\n",
    "            if diff(N, node, n) != 1:\n",
    "                continue\n",
    "            li.pop(i)\n",
    "            dfs(cnt+1, n, li, route+[n])\n",
    "            li.insert(i, n)\n",
    "            \n",
    "    if target not in words:\n",
    "        return 0\n",
    "    \n",
    "    N = len(begin)\n",
    "    res = []\n",
    "    dfs(0, begin, words, [begin])\n",
    "    \n",
    "    return min(res) if res else 0"
   ]
  },
  {
   "cell_type": "code",
   "execution_count": 150,
   "id": "8defc465",
   "metadata": {
    "ExecuteTime": {
     "end_time": "2021-07-15T03:37:15.154919Z",
     "start_time": "2021-07-15T03:37:15.131553Z"
    }
   },
   "outputs": [],
   "source": [
    "def solution(begin, target, words):\n",
    "    def dfs(cnt, node, li, route):\n",
    "        if node == target:\n",
    "            res.append(cnt)\n",
    "        for i, n in enumerate(li):\n",
    "            if len([1 for i in range(N) if node[i] != n[i]]) != 1:\n",
    "                continue\n",
    "            li.pop(i)\n",
    "            dfs(cnt+1, n, li, route+[n])\n",
    "            li.insert(i, n)\n",
    "            \n",
    "    if target not in words:\n",
    "        return 0\n",
    "    \n",
    "    N = len(begin)\n",
    "    res = []\n",
    "    dfs(0, begin, words, [begin])\n",
    "    \n",
    "    return min(res) if res else 0"
   ]
  },
  {
   "cell_type": "code",
   "execution_count": 151,
   "id": "9a3b21d9",
   "metadata": {
    "ExecuteTime": {
     "end_time": "2021-07-15T03:37:15.327143Z",
     "start_time": "2021-07-15T03:37:15.317102Z"
    }
   },
   "outputs": [
    {
     "data": {
      "text/plain": [
       "4"
      ]
     },
     "execution_count": 151,
     "metadata": {},
     "output_type": "execute_result"
    }
   ],
   "source": [
    "solution(\"hit\", \"cog\",  [\"hot\", \"dot\", \"dog\", \"lot\", \"log\", \"cog\"])"
   ]
  },
  {
   "cell_type": "code",
   "execution_count": 152,
   "id": "9a599e18",
   "metadata": {
    "ExecuteTime": {
     "end_time": "2021-07-15T03:37:15.624839Z",
     "start_time": "2021-07-15T03:37:15.600805Z"
    }
   },
   "outputs": [
    {
     "data": {
      "text/plain": [
       "0"
      ]
     },
     "execution_count": 152,
     "metadata": {},
     "output_type": "execute_result"
    }
   ],
   "source": [
    "solution(\"hit\", \"cog\",  [\"hot\", \"dot\", \"dog\", \"lot\", \"log\"])"
   ]
  },
  {
   "cell_type": "code",
   "execution_count": null,
   "id": "ff9a650c",
   "metadata": {},
   "outputs": [],
   "source": []
  }
 ],
 "metadata": {
  "kernelspec": {
   "display_name": "Python 3",
   "language": "python",
   "name": "python3"
  },
  "language_info": {
   "codemirror_mode": {
    "name": "ipython",
    "version": 3
   },
   "file_extension": ".py",
   "mimetype": "text/x-python",
   "name": "python",
   "nbconvert_exporter": "python",
   "pygments_lexer": "ipython3",
   "version": "3.8.5"
  },
  "toc": {
   "base_numbering": 1,
   "nav_menu": {},
   "number_sections": true,
   "sideBar": true,
   "skip_h1_title": false,
   "title_cell": "Table of Contents",
   "title_sidebar": "Contents",
   "toc_cell": false,
   "toc_position": {},
   "toc_section_display": true,
   "toc_window_display": false
  },
  "varInspector": {
   "cols": {
    "lenName": 16,
    "lenType": 16,
    "lenVar": 40
   },
   "kernels_config": {
    "python": {
     "delete_cmd_postfix": "",
     "delete_cmd_prefix": "del ",
     "library": "var_list.py",
     "varRefreshCmd": "print(var_dic_list())"
    },
    "r": {
     "delete_cmd_postfix": ") ",
     "delete_cmd_prefix": "rm(",
     "library": "var_list.r",
     "varRefreshCmd": "cat(var_dic_list()) "
    }
   },
   "types_to_exclude": [
    "module",
    "function",
    "builtin_function_or_method",
    "instance",
    "_Feature"
   ],
   "window_display": false
  }
 },
 "nbformat": 4,
 "nbformat_minor": 5
}
