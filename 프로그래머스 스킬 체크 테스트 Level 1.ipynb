{
 "cells": [
  {
   "cell_type": "markdown",
   "metadata": {},
   "source": [
    "# 프로그래머스 스킬 체크 테스트 Level 1"
   ]
  },
  {
   "cell_type": "code",
   "execution_count": null,
   "metadata": {},
   "outputs": [],
   "source": [
    "\"\"\"\n",
    "문제 설명 \n",
    "문자열로 구성된 리스트 strings와, 정수 n이 주어졌을 때, 각 문자열의 인덱스 n번째 글자를 기준으로 오름차순 \n",
    "정렬하려 합니다. 예를 들어 strings가 [sun, bed, car]이고 n이 1이면 각 단어의 인덱스 1의 문자 u, e, a로 \n",
    "strings를 정렬합니다.\n",
    "\n",
    "제한 조건:\n",
    "strings는 길이 1 이상, 50이하인 배열입니다.\n",
    "strings의 원소는 소문자 알파벳으로 이루어져 있습니다.\n",
    "strings의 원소는 길이 1 이상, 100이하인 문자열입니다.\n",
    "모든 strings의 원소의 길이는 n보다 큽니다.\n",
    "인덱스 1의 문자가 같은 문자열이 여럿 일 경우, 사전순으로 앞선 문자열이 앞쪽에 위치합니다.\n",
    "\n",
    "입출력 예\n",
    "strings\t            n\treturn\n",
    "[sun, bed, car]\t    1 \t[car, bed, sun]\n",
    "[abce, abcd, cdx]   2\t[abcd, abce, cdx]\n",
    "\"\"\""
   ]
  },
  {
   "cell_type": "code",
   "execution_count": 2,
   "metadata": {},
   "outputs": [],
   "source": [
    "# 나의 코드(정답!)\n",
    "def solution(strings, n):\n",
    "    strings = sorted(strings)\n",
    "    li = []\n",
    "    for s in strings:\n",
    "        li.append(s[n])\n",
    "    for i in range(len(li)):\n",
    "        for j in range(len(li) - 1):\n",
    "            if li[j] > li[j+1]:\n",
    "                temp = li[j+1]\n",
    "                li[j+1] = li[j]\n",
    "                li[j] = temp\n",
    "                temp = strings[j+1]\n",
    "                strings[j+1] = strings[j]\n",
    "                strings[j] = temp\n",
    "    return strings"
   ]
  },
  {
   "cell_type": "code",
   "execution_count": null,
   "metadata": {},
   "outputs": [],
   "source": [
    "\"\"\"\n",
    "문제 설명 \n",
    "프로그래머스 모바일은 개인정보 보호를 위해 고지서를 보낼 때 고객들의 전화번호의 일부를 가립니다.\n",
    "전화번호가 문자열 phone_number로 주어졌을 때, 전화번호의 뒷 4자리를 제외한 나머지 숫자를 전부 *으로 가린 문자열을 \n",
    "리턴하는 함수, solution을 완성해주세요.\n",
    "\n",
    "제한 조건:\n",
    "s는 길이 4 이상, 20이하인 문자열입니다.\n",
    "\n",
    "입출력 예\n",
    "phone_number\treturn\n",
    "01033334444\t*******4444\n",
    "027778888\t*****8888\n",
    "\"\"\""
   ]
  },
  {
   "cell_type": "code",
   "execution_count": 4,
   "metadata": {},
   "outputs": [],
   "source": [
    "def solution(phone_number):\n",
    "    a, b = phone_number[:-4], phone_number[len(phone_number)-4:]\n",
    "    a = '*' * (len(phone_number) - 4)\n",
    "    answer = a + b    \n",
    "    return answer"
   ]
  },
  {
   "cell_type": "code",
   "execution_count": null,
   "metadata": {},
   "outputs": [],
   "source": []
  }
 ],
 "metadata": {
  "kernelspec": {
   "display_name": "Python 3",
   "language": "python",
   "name": "python3"
  },
  "language_info": {
   "codemirror_mode": {
    "name": "ipython",
    "version": 3
   },
   "file_extension": ".py",
   "mimetype": "text/x-python",
   "name": "python",
   "nbconvert_exporter": "python",
   "pygments_lexer": "ipython3",
   "version": "3.6.8"
  }
 },
 "nbformat": 4,
 "nbformat_minor": 2
}
