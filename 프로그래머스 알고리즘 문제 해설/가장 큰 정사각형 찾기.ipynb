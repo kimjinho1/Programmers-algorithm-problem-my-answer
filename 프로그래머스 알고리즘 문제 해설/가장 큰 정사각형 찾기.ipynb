{
 "cells": [
  {
   "cell_type": "code",
   "execution_count": null,
   "metadata": {},
   "outputs": [],
   "source": [
    "\"\"\"\n",
    "1와 0로 채워진 표(board)가 있습니다. 표 1칸은 1 x 1 의 정사각형으로 이루어져 있습니다. \n",
    "표에서 1로 이루어진 가장 큰 정사각형을 찾아 넓이를 return 하는 solution 함수를 완성해 주세요. \n",
    "(단, 정사각형이란 축에 평행한 정사각형을 말합니다.)\n",
    "\"\"\""
   ]
  },
  {
   "cell_type": "markdown",
   "metadata": {},
   "source": [
    "**긴 시간동안 고민했지만 해결하지 못해서 답을 보았다.  \n",
    "아래와 코드와 같은 방식을 다이나믹 프로그래밍?이라고 부르는 것 같다.  \n",
    "처음에 나는 dp = [[0] * (col+1)] * (row+1) 라고 정의했었다.   \n",
    "얕은 복사라고 해야 될까. dp의 2번째 행의 열들이 바뀌면 다른 행들의 열도 다 같이 바뀌는   \n",
    "사태가 벌어졌다. 이것도 모르고 긴 시간동안 왜 안될까~ 거리면서 고민하고 있었다.**"
   ]
  },
  {
   "cell_type": "code",
   "execution_count": 1,
   "metadata": {},
   "outputs": [],
   "source": [
    "def solution(board):    \n",
    "    ans = 0;  \n",
    "    row = len(board)      \n",
    "    col = len(board[0])  \n",
    "    col_dp = [0] * (col+1)  \n",
    "    dp = []  \n",
    "    for i in range(row+1):  \n",
    "        dp.append(list(col_dp))  \n",
    "    for i in range(0, row):  \n",
    "        for j in range(0, col):   \n",
    "            if board[i][j] != 0:  \n",
    "                dp[i+1][j+1] = min(dp[i+1][j], dp[i][j+1], dp[i][j]) + 1  \n",
    "                ans = max(ans, dp[i+1][j+1])              \n",
    "    return ans*ans  "
   ]
  },
  {
   "cell_type": "code",
   "execution_count": 4,
   "metadata": {},
   "outputs": [
    {
     "name": "stdout",
     "output_type": "stream",
     "text": [
      "9\n",
      "4\n"
     ]
    }
   ],
   "source": [
    "print(solution([[0,1,1,1],[1,1,1,1],[1,1,1,1],[0,0,1,0]]))\n",
    "print(solution([[0,0,1,1],[1,1,1,1]]))"
   ]
  },
  {
   "cell_type": "code",
   "execution_count": null,
   "metadata": {},
   "outputs": [],
   "source": []
  }
 ],
 "metadata": {
  "kernelspec": {
   "display_name": "Python 3",
   "language": "python",
   "name": "python3"
  },
  "language_info": {
   "codemirror_mode": {
    "name": "ipython",
    "version": 3
   },
   "file_extension": ".py",
   "mimetype": "text/x-python",
   "name": "python",
   "nbconvert_exporter": "python",
   "pygments_lexer": "ipython3",
   "version": "3.6.8"
  }
 },
 "nbformat": 4,
 "nbformat_minor": 2
}
