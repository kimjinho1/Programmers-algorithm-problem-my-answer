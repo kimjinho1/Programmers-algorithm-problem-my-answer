{
 "cells": [
  {
   "cell_type": "code",
   "execution_count": null,
   "metadata": {},
   "outputs": [],
   "source": [
    "\"\"\"\n",
    "직사각형을 만드는 데 필요한 4개의 점 중 3개의 좌표가 주어질 때, 나머지 한 점의 좌표를 구하려고 합니다. \n",
    "점 3개의 좌표가 들어있는 배열 v가 매개변수로 주어질 때, 직사각형을 만드는 데 필요한 나머지 한 점의 좌표를 \n",
    "return 하도록 solution 함수를 완성해주세요. 단, 직사각형의 각 변은 x축, y축에 평행하며, \n",
    "반드시 직사각형을 만들 수 있는 경우만 입력으로 주어집니다.\n",
    "\"\"\""
   ]
  },
  {
   "cell_type": "markdown",
   "metadata": {},
   "source": [
    "### 나의 답   "
   ]
  },
  {
   "cell_type": "code",
   "execution_count": 3,
   "metadata": {},
   "outputs": [],
   "source": [
    "def solution(v):  \n",
    "    li1 = []  \n",
    "    li2 = []  \n",
    "    ans = []  \n",
    "    for i in v:  \n",
    "        li1.append(i[0])  \n",
    "        li2.append(i[1])  \n",
    "    for i in li1:  \n",
    "        if li1.count(i) == 1:  \n",
    "            ans.append(i)  \n",
    "    for i in li2:  \n",
    "        if li2.count(i) == 1:  \n",
    "            ans.append(i)  \n",
    "    return ans"
   ]
  },
  {
   "cell_type": "code",
   "execution_count": 4,
   "metadata": {},
   "outputs": [
    {
     "name": "stdout",
     "output_type": "stream",
     "text": [
      "[1, 10]\n",
      "[2, 1]\n"
     ]
    }
   ],
   "source": [
    "print(solution([[1, 4], [3, 4], [3, 10]]))\n",
    "print(solution([[1, 1], [2, 2], [1, 2]]))"
   ]
  },
  {
   "cell_type": "markdown",
   "metadata": {},
   "source": [
    "**분명 현명한 방법이 있을탠데 생각이 나지 않아서 어떻게든 풀기만 했다..  \n",
    "점이 3개 주어졌을 때 x좌표와 y좌표를 따로 모아 놓고, 각 리스트 중 혼자 있는 숫자를 보면  \n",
    "우리가 원하는 직사각형의 좌표임을 알 수 있다. 예시를 들면 [[1,2],[1,4],[3,4]]와 같이 세 점이 주어졌다 치자.   \n",
    "x축과 y축의 좌표들만 따로 모으면 [1,1,3], [2,4,4]가 된다. 여기서 각 리스트중 혼자 있는 숫자를 보면  \n",
    "3과 2인데 [3,2]는 우리가 찾고자 하는 좌표임을 알 수 있다.**"
   ]
  },
  {
   "cell_type": "markdown",
   "metadata": {},
   "source": [
    "### 해설 답  "
   ]
  },
  {
   "cell_type": "code",
   "execution_count": 5,
   "metadata": {},
   "outputs": [],
   "source": [
    "def solution(v):  \n",
    "    ans = [0,0]  \n",
    "    for i in range(3):  \n",
    "        ans[0] ^= v[i][0]  \n",
    "        ans[1] ^= v[i][1]   \n",
    "    return ans  "
   ]
  },
  {
   "cell_type": "code",
   "execution_count": 6,
   "metadata": {},
   "outputs": [
    {
     "name": "stdout",
     "output_type": "stream",
     "text": [
      "[1, 10]\n",
      "[2, 1]\n"
     ]
    }
   ],
   "source": [
    "print(solution([[1, 4], [3, 4], [3, 10]]))\n",
    "print(solution([[1, 1], [2, 2], [1, 2]]))"
   ]
  },
  {
   "cell_type": "markdown",
   "metadata": {},
   "source": [
    "**내가 생각했던 방식이 의외로? 정답이었다. 하지만 답은 코드는 훨씬더 간단했다.  \n",
    "A xor A xor B = B 이식의 의미하는건 같은 값 2개와 다른 값 1개를 모두 xor하면   \n",
    "다른 값 하나가 나온다는 것이다.  \n",
    "이것을 통해서 내가 반복문 2 3번 돌렸던것을 한 번에 해결할 수 있었다.  \n",
    "^연산자를 한번도 써보지 않아서 생각을 할 수가 없었던 것 같기도 하다. 반갑다 ^아 ^^**  "
   ]
  },
  {
   "cell_type": "code",
   "execution_count": null,
   "metadata": {},
   "outputs": [],
   "source": []
  }
 ],
 "metadata": {
  "kernelspec": {
   "display_name": "Python 3",
   "language": "python",
   "name": "python3"
  },
  "language_info": {
   "codemirror_mode": {
    "name": "ipython",
    "version": 3
   },
   "file_extension": ".py",
   "mimetype": "text/x-python",
   "name": "python",
   "nbconvert_exporter": "python",
   "pygments_lexer": "ipython3",
   "version": "3.6.8"
  }
 },
 "nbformat": 4,
 "nbformat_minor": 2
}
