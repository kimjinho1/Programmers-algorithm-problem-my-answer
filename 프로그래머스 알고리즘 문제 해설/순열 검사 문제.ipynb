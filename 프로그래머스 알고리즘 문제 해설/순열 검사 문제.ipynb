{
 "cells": [
  {
   "cell_type": "code",
   "execution_count": null,
   "metadata": {},
   "outputs": [],
   "source": [
    "\"\"\"\n",
    "길이가 n인 배열에 1부터 n까지 숫자가 중복 없이 한 번씩 들어 있는지를 확인하려고 합니다.\n",
    "1부터 n까지 숫자가 중복 없이 한 번씩 들어 있는 경우 true를, 아닌 경우 false를 반환하도록 \n",
    "함수 solution을 완성해주세요.\n",
    "\"\"\""
   ]
  },
  {
   "cell_type": "markdown",
   "metadata": {},
   "source": [
    "### 나의 답  "
   ]
  },
  {
   "cell_type": "code",
   "execution_count": 4,
   "metadata": {},
   "outputs": [],
   "source": [
    "def solution(arr):  \n",
    "    li = []  \n",
    "    for i in range(1, len(arr) + 1):  \n",
    "        li.append(i)  \n",
    "    if sorted(arr) == li:  \n",
    "        return True  \n",
    "    else:  \n",
    "        return False  "
   ]
  },
  {
   "cell_type": "code",
   "execution_count": 5,
   "metadata": {},
   "outputs": [
    {
     "name": "stdout",
     "output_type": "stream",
     "text": [
      "True\n",
      "False\n"
     ]
    }
   ],
   "source": [
    "print(solution([4, 1, 3, 2]))\n",
    "print(solution([4, 1, 3]))"
   ]
  },
  {
   "cell_type": "markdown",
   "metadata": {},
   "source": [
    "### 해설 답  "
   ]
  },
  {
   "cell_type": "code",
   "execution_count": 6,
   "metadata": {},
   "outputs": [],
   "source": [
    "def solution(arr):  \n",
    "    li = []  \n",
    "    arr = sorted(arr)  \n",
    "    for i in range(len(arr)):  \n",
    "        if arr[i] != i + 1:  \n",
    "            return False  \n",
    "    return True  "
   ]
  },
  {
   "cell_type": "code",
   "execution_count": 7,
   "metadata": {},
   "outputs": [
    {
     "name": "stdout",
     "output_type": "stream",
     "text": [
      "True\n",
      "False\n"
     ]
    }
   ],
   "source": [
    "print(solution([4, 1, 3, 2]))\n",
    "print(solution([4, 1, 3]))"
   ]
  },
  {
   "cell_type": "markdown",
   "metadata": {},
   "source": [
    "**해설 답이 2가지 있었는데 하나는 각 숫자들의 개수를 리스트에 저장하고  \n",
    "마지막에 리스트의 모든 요소가 1이 아니라면 False를 리턴하고 맞다면 True를 리턴하는 방식이다.  \n",
    "하지만 나는 이 방식보다 2번째 방법이 더 좋은 것 같다. 일단 arr를 정렬해놓고 for문을 통해  \n",
    "비교만 하면 되니 훨씬 더 빠른 코드인 것 같다. 첫번째 답은 끝까지 숫자의 개수를 새야되는 반면에 2번째는   \n",
    "즉각즉각 False를 리턴하기 때문이다.**"
   ]
  },
  {
   "cell_type": "code",
   "execution_count": null,
   "metadata": {},
   "outputs": [],
   "source": []
  }
 ],
 "metadata": {
  "kernelspec": {
   "display_name": "Python 3",
   "language": "python",
   "name": "python3"
  },
  "language_info": {
   "codemirror_mode": {
    "name": "ipython",
    "version": 3
   },
   "file_extension": ".py",
   "mimetype": "text/x-python",
   "name": "python",
   "nbconvert_exporter": "python",
   "pygments_lexer": "ipython3",
   "version": "3.6.8"
  }
 },
 "nbformat": 4,
 "nbformat_minor": 2
}
