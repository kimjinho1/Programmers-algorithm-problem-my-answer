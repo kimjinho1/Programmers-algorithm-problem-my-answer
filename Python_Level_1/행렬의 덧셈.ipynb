{
 "cells": [
  {
   "cell_type": "code",
   "execution_count": 1,
   "metadata": {},
   "outputs": [],
   "source": [
    "def solution(arr1, arr2):\n",
    "    answer = []\n",
    "    for n1, n2 in zip(arr1, arr2):\n",
    "        li = []\n",
    "        for i in range(len(n1)):\n",
    "            li.append(n1[i] + n2[i])\n",
    "        answer.append(li)\n",
    "    return answer"
   ]
  },
  {
   "cell_type": "code",
   "execution_count": 2,
   "metadata": {},
   "outputs": [
    {
     "name": "stdout",
     "output_type": "stream",
     "text": [
      "[[4, 6], [7, 9]]\n"
     ]
    }
   ],
   "source": [
    "print(solution([[1,2],[2,3]], [[3,4],[5,6]]))"
   ]
  },
  {
   "cell_type": "code",
   "execution_count": 7,
   "metadata": {},
   "outputs": [
    {
     "name": "stdout",
     "output_type": "stream",
     "text": [
      "[[4, 6]]\n"
     ]
    }
   ],
   "source": [
    "print(solution([[1,2]], [[3,4]]))"
   ]
  },
  {
   "cell_type": "code",
   "execution_count": 8,
   "metadata": {},
   "outputs": [],
   "source": [
    "# 조금 더 간단한 코드\n",
    "\n",
    "def solution(arr1, arr2):\n",
    "    for i in range(len(arr1)):\n",
    "        for j in range(len(arr1[0])):\n",
    "            arr1[i][j] += arr2[i][j]\n",
    "    return arr1"
   ]
  },
  {
   "cell_type": "code",
   "execution_count": 9,
   "metadata": {},
   "outputs": [
    {
     "name": "stdout",
     "output_type": "stream",
     "text": [
      "[[4, 6], [7, 9]]\n"
     ]
    }
   ],
   "source": [
    "print(solution([[1,2],[2,3]], [[3,4],[5,6]]))"
   ]
  },
  {
   "cell_type": "code",
   "execution_count": 10,
   "metadata": {},
   "outputs": [
    {
     "name": "stdout",
     "output_type": "stream",
     "text": [
      "[[4, 6]]\n"
     ]
    }
   ],
   "source": [
    "print(solution([[1,2]], [[3,4]]))"
   ]
  },
  {
   "cell_type": "code",
   "execution_count": null,
   "metadata": {},
   "outputs": [],
   "source": []
  }
 ],
 "metadata": {
  "kernelspec": {
   "display_name": "Python 3",
   "language": "python",
   "name": "python3"
  },
  "language_info": {
   "codemirror_mode": {
    "name": "ipython",
    "version": 3
   },
   "file_extension": ".py",
   "mimetype": "text/x-python",
   "name": "python",
   "nbconvert_exporter": "python",
   "pygments_lexer": "ipython3",
   "version": "3.6.8"
  }
 },
 "nbformat": 4,
 "nbformat_minor": 2
}
