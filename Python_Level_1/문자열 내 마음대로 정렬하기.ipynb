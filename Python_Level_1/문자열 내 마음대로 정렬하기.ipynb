{
 "cells": [
  {
   "cell_type": "code",
   "execution_count": null,
   "metadata": {},
   "outputs": [],
   "source": [
    "\"\"\"\n",
    "문자열로 구성된 리스트 strings와, 정수 n이 주어졌을 때, 각 문자열의 인덱스 n번째 글자를 기준으로 오름차순 정렬하려 합니다. \n",
    "예를 들어 strings가 [sun, bed, car]이고 n이 1이면 각 단어의 인덱스 1의 문자 u, e, a로 strings를 정렬합니다.\n",
    "\"\"\""
   ]
  },
  {
   "cell_type": "code",
   "execution_count": 1,
   "metadata": {},
   "outputs": [],
   "source": [
    "def solution(strings, n):\n",
    "    strings.sort()\n",
    "    li = []\n",
    "    for word in strings:\n",
    "        li.append(word[n])\n",
    "    for i in range(len(li)):\n",
    "        for j in range(len(li)-1):\n",
    "            if li[j] > li[j+1]:\n",
    "                temp = li[j]\n",
    "                li[j] = li[j+1]\n",
    "                li[j+1] = temp\n",
    "                temp = strings[j]\n",
    "                strings[j] = strings[j+1]\n",
    "                strings[j+1] = temp\n",
    "    return strings"
   ]
  },
  {
   "cell_type": "code",
   "execution_count": 2,
   "metadata": {},
   "outputs": [
    {
     "name": "stdout",
     "output_type": "stream",
     "text": [
      "['car', 'bed', 'sun']\n"
     ]
    }
   ],
   "source": [
    "print(solution(['sun', 'bed', 'car'], 1))"
   ]
  },
  {
   "cell_type": "code",
   "execution_count": 3,
   "metadata": {},
   "outputs": [
    {
     "name": "stdout",
     "output_type": "stream",
     "text": [
      "['abcd', 'abce', 'cdx']\n"
     ]
    }
   ],
   "source": [
    "print(solution(['abce', 'abcd', 'cdx'], 2))"
   ]
  },
  {
   "cell_type": "code",
   "execution_count": null,
   "metadata": {},
   "outputs": [],
   "source": []
  }
 ],
 "metadata": {
  "kernelspec": {
   "display_name": "Python 3",
   "language": "python",
   "name": "python3"
  },
  "language_info": {
   "codemirror_mode": {
    "name": "ipython",
    "version": 3
   },
   "file_extension": ".py",
   "mimetype": "text/x-python",
   "name": "python",
   "nbconvert_exporter": "python",
   "pygments_lexer": "ipython3",
   "version": "3.6.8"
  }
 },
 "nbformat": 4,
 "nbformat_minor": 2
}
