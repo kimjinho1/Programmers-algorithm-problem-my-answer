{
 "cells": [
  {
   "cell_type": "code",
   "execution_count": null,
   "metadata": {},
   "outputs": [],
   "source": [
    "\"\"\"\n",
    "숫자 야구 게임이란 2명이 서로가 생각한 숫자를 맞추는 게임입니다. 게임해보기\n",
    "\n",
    "각자 서로 다른 1~9까지 3자리 임의의 숫자를 정한 뒤 서로에게 3자리의 숫자를 불러서 결과를 확인합니다. \n",
    "그리고 그 결과를 토대로 상대가 정한 숫자를 예상한 뒤 맞힙니다.\n",
    "\n",
    "* 숫자는 맞지만, 위치가 틀렸을 때는 볼\n",
    "* 숫자와 위치가 모두 맞을 때는 스트라이크\n",
    "* 숫자와 위치가 모두 틀렸을 때는 아웃\n",
    "예를 들어, 아래의 경우가 있으면\n",
    "\n",
    "A : 123\n",
    "B : 1스트라이크 1볼.\n",
    "A : 356\n",
    "B : 1스트라이크 0볼.\n",
    "A : 327\n",
    "B : 2스트라이크 0볼.\n",
    "A : 489\n",
    "B : 0스트라이크 1볼.\n",
    "이때 가능한 답은 324와 328 두 가지입니다.\n",
    "\n",
    "질문한 세 자리의 수, 스트라이크의 수, 볼의 수를 담은 2차원 배열 baseball이 매개변수로 주어질 때, \n",
    "가능한 답의 개수를 return 하도록 solution 함수를 작성해주세요.\n",
    "\"\"\""
   ]
  },
  {
   "cell_type": "code",
   "execution_count": 279,
   "metadata": {},
   "outputs": [],
   "source": [
    "from itertools import permutations\n",
    "\n",
    "def solution(baseball):\n",
    "    n = [i for i in range(1, 10)]\n",
    "    baseball = sorted(baseball, key=lambda x:x[2], reverse = True)\n",
    "    baseball = sorted(baseball, key=lambda x:x[1], reverse = True)\n",
    "    total = list(map(list, permutations([1,2,3,4,5,6,7,8,9], 3)))\n",
    "    \n",
    "    for n, s, b in baseball:\n",
    "        d = []\n",
    "        n_li = list(map(int, list(str(n))))\n",
    "        for t in total:\n",
    "            if (strike(n_li, t) != s) or((ball(n_li, t)) != b):\n",
    "                d.append(t)\n",
    "        \n",
    "        for i in range(len(d)):\n",
    "            total.remove(d[i])\n",
    "        \n",
    "    return len(total)\n",
    "\n",
    "def strike(a, b):\n",
    "    cnt = 0\n",
    "    for i in range(3):\n",
    "        if a[i] == b[i]:\n",
    "            cnt += 1\n",
    "    return cnt\n",
    "\n",
    "def ball(a, b):\n",
    "    cnt = 0\n",
    "    for i in range(3):\n",
    "        if a[i] != b[i] and a[i] in b:\n",
    "            cnt += 1\n",
    "    return cnt"
   ]
  },
  {
   "cell_type": "code",
   "execution_count": 280,
   "metadata": {
    "scrolled": true
   },
   "outputs": [
    {
     "data": {
      "text/plain": [
       "2"
      ]
     },
     "execution_count": 280,
     "metadata": {},
     "output_type": "execute_result"
    }
   ],
   "source": [
    "solution([[123, 1, 1], [356, 1, 0], [327, 2, 0], [489, 0, 1]])"
   ]
  },
  {
   "cell_type": "code",
   "execution_count": null,
   "metadata": {},
   "outputs": [],
   "source": []
  }
 ],
 "metadata": {
  "kernelspec": {
   "display_name": "Python 3",
   "language": "python",
   "name": "python3"
  },
  "language_info": {
   "codemirror_mode": {
    "name": "ipython",
    "version": 3
   },
   "file_extension": ".py",
   "mimetype": "text/x-python",
   "name": "python",
   "nbconvert_exporter": "python",
   "pygments_lexer": "ipython3",
   "version": "3.6.8"
  }
 },
 "nbformat": 4,
 "nbformat_minor": 2
}
