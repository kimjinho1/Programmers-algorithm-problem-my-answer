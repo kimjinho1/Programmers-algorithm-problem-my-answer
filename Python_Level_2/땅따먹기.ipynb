{
 "cells": [
  {
   "cell_type": "code",
   "execution_count": null,
   "metadata": {},
   "outputs": [],
   "source": [
    "\"\"\"\n",
    "문제 설명\n",
    "땅따먹기 게임을 하려고 합니다. 땅따먹기 게임의 땅(land)은 총 N행 4열로 이루어져 있고, 모든 칸에는 점수가 \n",
    "쓰여 있습니다. 1행부터 땅을 밟으며 한 행씩 내려올 때, 각 행의 4칸 중 한 칸만 밟으면서 내려와야 합니다. \n",
    "단, 땅따먹기 게임에는 한 행씩 내려올 때, 같은 열을 연속해서 밟을 수 없는 특수 규칙이 있습니다.\n",
    "\n",
    "예를 들면,\n",
    "\n",
    "| 1 | 2 | 3 | 5 |\n",
    "\n",
    "| 5 | 6 | 7 | 8 |\n",
    "\n",
    "| 4 | 3 | 2 | 1 |\n",
    "\n",
    "로 땅이 주어졌다면, 1행에서 네번째 칸 (5)를 밟았으면, 2행의 네번째 칸 (8)은 밟을 수 없습니다.\n",
    "\n",
    "마지막 행까지 모두 내려왔을 때, 얻을 수 있는 점수의 최대값을 return하는 solution 함수를 완성해 주세요. \n",
    "위 예의 경우, 1행의 네번째 칸 (5), 2행의 세번째 칸 (7), 3행의 첫번째 칸 (4) 땅을 밟아 16점이 \n",
    "최고점이 되므로 16을 return 하면 됩니다.\n",
    "\"\"\""
   ]
  },
  {
   "cell_type": "code",
   "execution_count": 13,
   "metadata": {},
   "outputs": [],
   "source": [
    "# 이렇게 짜면 테스트케이스는 통과할 수 있지만 결국엔 오답이다!\n",
    "def solution(land):\n",
    "    index = -1\n",
    "    ans = 0\n",
    "    for l in land:\n",
    "        if index > 0:\n",
    "            temp = l.pop(index)\n",
    "            m = max(l)\n",
    "            l.append(temp)\n",
    "        else:\n",
    "            m = max(l)\n",
    "        index = l.index(max(l))\n",
    "        ans += m\n",
    "    return ans"
   ]
  },
  {
   "cell_type": "code",
   "execution_count": 14,
   "metadata": {
    "scrolled": true
   },
   "outputs": [
    {
     "data": {
      "text/plain": [
       "16"
      ]
     },
     "execution_count": 14,
     "metadata": {},
     "output_type": "execute_result"
    }
   ],
   "source": [
    "solution([[1,2,3,5],[5,6,7,8],[4,3,2,1]])"
   ]
  },
  {
   "cell_type": "code",
   "execution_count": 32,
   "metadata": {},
   "outputs": [],
   "source": [
    "# 다이나믹 프로그래밍이였나 그 dp방식이랑 비슷한 것 같다. 바로 통과!\n",
    "def solution(land):\n",
    "    for i in range(len(land)-1):\n",
    "        land[i+1][0] += max(land[i][1], land[i][2], land[i][3]) \n",
    "        land[i+1][1] += max(land[i][0], land[i][2], land[i][3]) \n",
    "        land[i+1][2] += max(land[i][0], land[i][1], land[i][3]) \n",
    "        land[i+1][3] += max(land[i][0], land[i][1], land[i][2]) \n",
    "    \n",
    "    return max(land[-1])"
   ]
  },
  {
   "cell_type": "code",
   "execution_count": 33,
   "metadata": {},
   "outputs": [
    {
     "data": {
      "text/plain": [
       "16"
      ]
     },
     "execution_count": 33,
     "metadata": {},
     "output_type": "execute_result"
    }
   ],
   "source": [
    "solution([[1,2,3,5],[5,6,7,8],[4,3,2,1]])"
   ]
  },
  {
   "cell_type": "code",
   "execution_count": null,
   "metadata": {},
   "outputs": [],
   "source": []
  }
 ],
 "metadata": {
  "kernelspec": {
   "display_name": "Python 3",
   "language": "python",
   "name": "python3"
  },
  "language_info": {
   "codemirror_mode": {
    "name": "ipython",
    "version": 3
   },
   "file_extension": ".py",
   "mimetype": "text/x-python",
   "name": "python",
   "nbconvert_exporter": "python",
   "pygments_lexer": "ipython3",
   "version": "3.6.8"
  }
 },
 "nbformat": 4,
 "nbformat_minor": 2
}
