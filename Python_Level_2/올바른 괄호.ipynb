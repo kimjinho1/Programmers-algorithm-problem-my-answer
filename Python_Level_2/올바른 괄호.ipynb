{
 "cells": [
  {
   "cell_type": "code",
   "execution_count": null,
   "metadata": {},
   "outputs": [],
   "source": [
    "\"\"\"\n",
    "문제 설명\n",
    "괄호가 바르게 짝지어졌다는 것은 '(' 문자로 열렸으면 반드시 짝지어서 ')' 문자로 닫혀야 한다는 뜻입니다. \n",
    "예를 들어\n",
    "\n",
    "()() 또는 (())() 는 올바른 괄호입니다.\n",
    ")()( 또는 (()( 는 올바르지 않은 괄호입니다.\n",
    "'(' 또는 ')' 로만 이루어진 문자열 s가 주어졌을 때, 문자열 s가 올바른 괄호이면 true를 return 하고, \n",
    "올바르지 않은 괄호이면 false를 return 하는 solution 함수를 완성해 주세요.\n",
    "\"\"\""
   ]
  },
  {
   "cell_type": "code",
   "execution_count": 35,
   "metadata": {},
   "outputs": [],
   "source": [
    "# Stack을 사용해서 풀었는데 시간초과로 틀렸다. 그렇다면 --> (아래의 코드로)\n",
    "def solution(s):\n",
    "    stack = []\n",
    "    for b in s:\n",
    "        if b == '(':\n",
    "            stack.append(b)\n",
    "        else:\n",
    "            if len(stack) == 0:\n",
    "                return False\n",
    "            stack.pop(0)\n",
    "    return len(stack) == 0 "
   ]
  },
  {
   "cell_type": "code",
   "execution_count": 42,
   "metadata": {
    "scrolled": false
   },
   "outputs": [
    {
     "name": "stdout",
     "output_type": "stream",
     "text": [
      "True\n",
      "True\n",
      "False\n",
      "True\n"
     ]
    }
   ],
   "source": [
    "print(solution('()()'))\n",
    "print(solution('(())()'))\n",
    "print(solution(')()('))\n",
    "print(solution('(()('))"
   ]
  },
  {
   "cell_type": "code",
   "execution_count": 43,
   "metadata": {},
   "outputs": [],
   "source": [
    "# 더 빠른 코드르 구현해보자!\n",
    "# 이게 왜 시간초과가 걸리지? 무한루프에 절대 안걸리는데..\n",
    "def solution(s):\n",
    "    while True:\n",
    "        if not '()' in s:\n",
    "            return len(s) == 0\n",
    "        else:\n",
    "            s = s.replace('()', '')"
   ]
  },
  {
   "cell_type": "code",
   "execution_count": 44,
   "metadata": {},
   "outputs": [
    {
     "name": "stdout",
     "output_type": "stream",
     "text": [
      "True\n",
      "True\n",
      "False\n",
      "False\n"
     ]
    }
   ],
   "source": [
    "print(solution('()()'))\n",
    "print(solution('(())()'))\n",
    "print(solution(')()('))\n",
    "print(solution('(()('))"
   ]
  },
  {
   "cell_type": "code",
   "execution_count": 45,
   "metadata": {},
   "outputs": [
    {
     "name": "stdout",
     "output_type": "stream",
     "text": [
      "True\n",
      "True\n",
      "False\n",
      "False\n"
     ]
    }
   ],
   "source": [
    "# 맨위에 있는 Stack 코드랑 다른건 a라는 변수를 Stack역활을 하도록 한 것 뿐이다.\n",
    "# 그런데 앞에 Stack 코드는 시간초과이고 이건 통과라고? 이해가 안되네^^\n",
    "def solution(s):\n",
    "    a = 0\n",
    "    for b in s:\n",
    "        if b == '(':\n",
    "            a+=1\n",
    "        else:\n",
    "            if a == 0:\n",
    "                return False\n",
    "            a -= 1\n",
    "    return a == 0 \n",
    "\n",
    "print(solution('()()'))\n",
    "print(solution('(())()'))\n",
    "print(solution(')()('))\n",
    "print(solution('(()('))"
   ]
  },
  {
   "cell_type": "code",
   "execution_count": null,
   "metadata": {},
   "outputs": [],
   "source": []
  }
 ],
 "metadata": {
  "kernelspec": {
   "display_name": "Python 3",
   "language": "python",
   "name": "python3"
  },
  "language_info": {
   "codemirror_mode": {
    "name": "ipython",
    "version": 3
   },
   "file_extension": ".py",
   "mimetype": "text/x-python",
   "name": "python",
   "nbconvert_exporter": "python",
   "pygments_lexer": "ipython3",
   "version": "3.6.8"
  }
 },
 "nbformat": 4,
 "nbformat_minor": 2
}
