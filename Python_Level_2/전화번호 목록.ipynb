{
 "cells": [
  {
   "cell_type": "code",
   "execution_count": null,
   "metadata": {},
   "outputs": [],
   "source": [
    "\"\"\"\n",
    "문제 설명\n",
    "전화번호부에 적힌 전화번호 중, 한 번호가 다른 번호의 접두어인 경우가 있는지 확인하려 합니다.\n",
    "전화번호가 다음과 같을 경우, 구조대 전화번호는 영석이의 전화번호의 접두사입니다.\n",
    "\n",
    "구조대 : 119\n",
    "박준영 : 97 674 223\n",
    "지영석 : 11 9552 4421\n",
    "전화번호부에 적힌 전화번호를 담은 배열 phone_book 이 solution 함수의 매개변수로 주어질 때, \n",
    "어떤 번호가 다른 번호의 접두어인 경우가 있으면 false를 그렇지 않으면 true를 return 하도록 \n",
    "solution 함수를 작성해주세요.\n",
    "\"\"\""
   ]
  },
  {
   "cell_type": "code",
   "execution_count": 17,
   "metadata": {},
   "outputs": [
    {
     "name": "stdout",
     "output_type": "stream",
     "text": [
      "False\n",
      "True\n",
      "False\n"
     ]
    }
   ],
   "source": [
    "def solution(pb):\n",
    "    for p in pb:\n",
    "        for i in range(len(pb)):\n",
    "            if len(p) != len(pb[i]) and pb[i].find(p) == 0:\n",
    "                return False\n",
    "    return True\n",
    "\n",
    "print(solution(['119', '97674223', '1195524421']))\n",
    "print(solution(['123','456','789']))\n",
    "print(solution(['12','123','1235','567','88']))"
   ]
  },
  {
   "cell_type": "code",
   "execution_count": 16,
   "metadata": {},
   "outputs": [
    {
     "data": {
      "text/plain": [
       "True"
      ]
     },
     "execution_count": 16,
     "metadata": {},
     "output_type": "execute_result"
    }
   ],
   "source": [
    "def solution(pb):\n",
    "    new_pb = []\n",
    "    for p in pb:\n",
    "        new_pb.append(''.join(list(p.strip().split())))\n",
    "    \n",
    "    for p in new_pb:\n",
    "        for i in range(len(new_pb)):\n",
    "            if len(p) != len(new_pb[i]) and new_pb[i].find(p) == 0:\n",
    "                print(p)\n",
    "                print(i)\n",
    "                print(new_pb[i])\n",
    "                print(new_pb[i].find(p))\n",
    "                return False\n",
    "    return True \n",
    "\n",
    "#solution(['119', '97674223', '1195524421'])\n",
    "solution(['123','456','789'])\n",
    "#solution(['12','123','1235','567','88'])"
   ]
  },
  {
   "cell_type": "code",
   "execution_count": 10,
   "metadata": {},
   "outputs": [
    {
     "name": "stdout",
     "output_type": "stream",
     "text": [
      "127353452713\n"
     ]
    }
   ],
   "source": [
    "a = '    1 2      7  353452 713   '\n",
    "a = ''.join(list(a.strip().split()))\n",
    "print(a)"
   ]
  },
  {
   "cell_type": "code",
   "execution_count": 13,
   "metadata": {},
   "outputs": [
    {
     "name": "stdout",
     "output_type": "stream",
     "text": [
      "0\n",
      "1\n",
      "-1\n"
     ]
    }
   ],
   "source": [
    "n1 = '123'\n",
    "n2 = '456'\n",
    "n = '1235'\n",
    "m = '5123'\n",
    "print(n.find(n1))\n",
    "print(m.find(n1))\n",
    "print(n2.find(n1))"
   ]
  }
 ],
 "metadata": {
  "kernelspec": {
   "display_name": "Python 3",
   "language": "python",
   "name": "python3"
  },
  "language_info": {
   "codemirror_mode": {
    "name": "ipython",
    "version": 3
   },
   "file_extension": ".py",
   "mimetype": "text/x-python",
   "name": "python",
   "nbconvert_exporter": "python",
   "pygments_lexer": "ipython3",
   "version": "3.6.8"
  }
 },
 "nbformat": 4,
 "nbformat_minor": 2
}
