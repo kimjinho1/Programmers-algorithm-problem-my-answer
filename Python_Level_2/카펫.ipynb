{
 "cells": [
  {
   "cell_type": "code",
   "execution_count": null,
   "metadata": {},
   "outputs": [],
   "source": [
    "\"\"\"\n",
    "Leo는 카펫을 사러 갔다가 아래 그림과 같이 중앙에는 빨간색으로 칠해져 있고 모서리는 갈색으로 칠해져 있는 \n",
    "격자 모양 카펫을 봤습니다.\n",
    "\n",
    "Leo는 집으로 돌아와서 아까 본 카펫의 빨간색과 갈색으로 색칠된 격자의 개수는 기억했지만, \n",
    "전체 카펫의 크기는 기억하지 못했습니다.\n",
    "\n",
    "Leo가 본 카펫에서 갈색 격자의 수 brown, 빨간색 격자의 수 red가 매개변수로 주어질 때 카펫의 \n",
    "가로, 세로 크기를 순서대로 배열에 담아 return 하도록 solution 함수를 작성해주세요.\n",
    "\"\"\""
   ]
  },
  {
   "cell_type": "code",
   "execution_count": 9,
   "metadata": {},
   "outputs": [],
   "source": [
    "# sympy 라이브러리를 사용하면 함수의 해를 바로 알려준다..\n",
    "# 근데 이방식은 프로그래머스에서 라이브러리 인식이 안되서 오답이다.\n",
    "from sympy import Symbol, solve\n",
    "\n",
    "def solution(brown, red):\n",
    "    x = Symbol('x')\n",
    "    func = x**2 - (brown/2 + 2) * x + brown + red\n",
    "    ans = list(map(int, sorted(solve(func), reverse=True)))\n",
    "    return ans"
   ]
  },
  {
   "cell_type": "code",
   "execution_count": 10,
   "metadata": {
    "scrolled": true
   },
   "outputs": [
    {
     "name": "stdout",
     "output_type": "stream",
     "text": [
      "[4, 3]\n",
      "[3]\n",
      "[8, 6]\n"
     ]
    }
   ],
   "source": [
    "print(solution(10, 2))\n",
    "print(solution(8, 1))\n",
    "print(solution(24, 24))"
   ]
  },
  {
   "cell_type": "code",
   "execution_count": 19,
   "metadata": {},
   "outputs": [],
   "source": [
    "# 그렇다면 다른 방식으로 코드를 구현해보자!\n",
    "def solution(brown, red):\n",
    "    def func(x, brown, red):\n",
    "        func = x**2 - (brown/2 + 2) * x + brown + red\n",
    "        return func\n",
    "    ans = []\n",
    "    x = 3\n",
    "    while(len(ans) < 2 and x < brown):\n",
    "        if func(x, brown, red) == 0:\n",
    "            ans.append(x)\n",
    "        x += 1\n",
    "    if len(ans) == 1:\n",
    "        ans *= 2\n",
    "    return sorted(ans, reverse=True)"
   ]
  },
  {
   "cell_type": "code",
   "execution_count": 20,
   "metadata": {},
   "outputs": [
    {
     "name": "stdout",
     "output_type": "stream",
     "text": [
      "[4, 3]\n",
      "[3, 3]\n",
      "[8, 6]\n"
     ]
    }
   ],
   "source": [
    "print(solution(10, 2))\n",
    "print(solution(8, 1))\n",
    "print(solution(24, 24))"
   ]
  },
  {
   "cell_type": "code",
   "execution_count": null,
   "metadata": {},
   "outputs": [],
   "source": []
  }
 ],
 "metadata": {
  "kernelspec": {
   "display_name": "Python 3",
   "language": "python",
   "name": "python3"
  },
  "language_info": {
   "codemirror_mode": {
    "name": "ipython",
    "version": 3
   },
   "file_extension": ".py",
   "mimetype": "text/x-python",
   "name": "python",
   "nbconvert_exporter": "python",
   "pygments_lexer": "ipython3",
   "version": "3.6.8"
  }
 },
 "nbformat": 4,
 "nbformat_minor": 2
}
