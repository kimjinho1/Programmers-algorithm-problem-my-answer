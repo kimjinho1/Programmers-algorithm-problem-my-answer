{
 "cells": [
  {
   "cell_type": "code",
   "execution_count": null,
   "metadata": {},
   "outputs": [],
   "source": [
    "\"\"\"\n",
    "문제 설명\n",
    "스파이들은 매일 다른 옷을 조합하여 입어 자신을 위장합니다.\n",
    "\n",
    "예를 들어 스파이가 가진 옷이 아래와 같고 오늘 스파이가 동그란 안경, 긴 코트, 파란색 티셔츠를 입었다면 \n",
    "다음날은 청바지를 추가로 입거나 동그란 안경 대신 검정 선글라스를 착용하거나 해야 합니다.\n",
    "\n",
    "종류\t이름\n",
    "얼굴\t동그란 안경, 검정 선글라스\n",
    "상의\t파란색 티셔츠\n",
    "하의\t청바지\n",
    "겉옷\t긴 코트\n",
    "스파이가 가진 의상들이 담긴 2차원 배열 clothes가 주어질 때 서로 다른 옷의 조합의 수를 return 하도록 \n",
    "solution 함수를 작성해주세요.\n",
    "\"\"\""
   ]
  },
  {
   "cell_type": "code",
   "execution_count": 34,
   "metadata": {},
   "outputs": [],
   "source": [
    "# 처음에 딕셔너리에서 value의 종류 개수를 새는 방법을 몰라 이런 노가다를 했다.\n",
    "# 딕셔너리를 사용한 코드는 아래에 있다.\n",
    "def solution(clothes):\n",
    "    ans = 1\n",
    "    cc = []\n",
    "    for cloth, kind in clothes:\n",
    "        cc.append(kind)\n",
    "    li = []\n",
    "    while len(cc) != 0:\n",
    "        li.append(cc.count(cc[0]))\n",
    "        r = cc[0]\n",
    "        while r in cc:\n",
    "            cc.remove(r)\n",
    "    \n",
    "    for c in li:\n",
    "        ans *= c + 1\n",
    "    \n",
    "    return ans-1"
   ]
  },
  {
   "cell_type": "code",
   "execution_count": 35,
   "metadata": {},
   "outputs": [
    {
     "data": {
      "text/plain": [
       "5"
      ]
     },
     "execution_count": 35,
     "metadata": {},
     "output_type": "execute_result"
    }
   ],
   "source": [
    "solution([['yellow_hat', 'headgear'], ['blue_sunglasses', 'eyewear'], \n",
    "            ['green_turban', 'headgear']])"
   ]
  },
  {
   "cell_type": "code",
   "execution_count": 36,
   "metadata": {},
   "outputs": [
    {
     "data": {
      "text/plain": [
       "3"
      ]
     },
     "execution_count": 36,
     "metadata": {},
     "output_type": "execute_result"
    }
   ],
   "source": [
    "solution([['crow_mask', 'face'], ['blue_sunglasses', 'face'], ['smoky_makeup', 'face']])"
   ]
  },
  {
   "cell_type": "code",
   "execution_count": 37,
   "metadata": {},
   "outputs": [],
   "source": [
    "# 더이상 노가다는 없다!\n",
    "def solution(clothes):\n",
    "    ans = 1\n",
    "    cc = {}\n",
    "    \n",
    "    for c, t in clothes:\n",
    "        if t not in cc:\n",
    "            cc[t] = 1\n",
    "        else:\n",
    "            cc[t] += 1\n",
    "    \n",
    "    for c in cc.values():\n",
    "        ans *= c + 1\n",
    "    \n",
    "    return ans-1"
   ]
  },
  {
   "cell_type": "code",
   "execution_count": 38,
   "metadata": {},
   "outputs": [
    {
     "data": {
      "text/plain": [
       "5"
      ]
     },
     "execution_count": 38,
     "metadata": {},
     "output_type": "execute_result"
    }
   ],
   "source": [
    "solution([['yellow_hat', 'headgear'], ['blue_sunglasses', 'eyewear'], \n",
    "            ['green_turban', 'headgear']])"
   ]
  },
  {
   "cell_type": "code",
   "execution_count": 39,
   "metadata": {},
   "outputs": [
    {
     "data": {
      "text/plain": [
       "3"
      ]
     },
     "execution_count": 39,
     "metadata": {},
     "output_type": "execute_result"
    }
   ],
   "source": [
    "solution([['crow_mask', 'face'], ['blue_sunglasses', 'face'], ['smoky_makeup', 'face']])"
   ]
  },
  {
   "cell_type": "code",
   "execution_count": null,
   "metadata": {},
   "outputs": [],
   "source": []
  }
 ],
 "metadata": {
  "kernelspec": {
   "display_name": "Python 3",
   "language": "python",
   "name": "python3"
  },
  "language_info": {
   "codemirror_mode": {
    "name": "ipython",
    "version": 3
   },
   "file_extension": ".py",
   "mimetype": "text/x-python",
   "name": "python",
   "nbconvert_exporter": "python",
   "pygments_lexer": "ipython3",
   "version": "3.6.8"
  }
 },
 "nbformat": 4,
 "nbformat_minor": 2
}
