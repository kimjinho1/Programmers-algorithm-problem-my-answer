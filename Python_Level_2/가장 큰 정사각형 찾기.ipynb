{
 "cells": [
  {
   "cell_type": "code",
   "execution_count": null,
   "metadata": {},
   "outputs": [],
   "source": [
    "\"\"\"\n",
    "문제 설명\n",
    "1와 0로 채워진 표(board)가 있습니다. 표 1칸은 1 x 1 의 정사각형으로 이루어져 있습니다. \n",
    "표에서 1로 이루어진 가장 큰 정사각형을 찾아 넓이를 return 하는 solution 함수를 완성해 주세요.\n",
    "(단, 정사각형이란 축에 평행한 정사각형을 말합니다.)\n",
    "\n",
    "예를 들어\n",
    "\n",
    "1\t2\t3\t4\n",
    "0\t1\t1\t1\n",
    "1\t1\t1\t1\n",
    "1\t1\t1\t1\n",
    "0\t0\t1\t0\n",
    "가 있다면 가장 큰 정사각형은\n",
    "\n",
    "1\t2\t3\t4\n",
    "0\t1\t1\t1\n",
    "1\t1\t1\t1\n",
    "1\t1\t1\t1\n",
    "0\t0\t1\t0\n",
    "가 되며 넓이는 9가 되므로 9를 반환해 주면 됩니다.\n",
    "\"\"\""
   ]
  },
  {
   "cell_type": "code",
   "execution_count": 87,
   "metadata": {},
   "outputs": [],
   "source": [
    "#import pprint as p\n",
    "def solution(board):\n",
    "    #p.pprint(board)    \n",
    "    col = len(board[0]) \n",
    "    row = len(board)\n",
    "    col_dp = [0] * (col+1)\n",
    "    dp = []\n",
    "    for i in range(row+1):\n",
    "        dp.append(list(col_dp))\n",
    "    ans = 0\n",
    "    \n",
    "    for i in range(row):\n",
    "        for j in range(col):\n",
    "            if board[i][j] != 0:\n",
    "                dp[i+1][j+1] = min(dp[i][j], dp[i][j+1], dp[i+1][j]) + 1\n",
    "                ans = max(ans, dp[i+1][j+1])\n",
    "    #p.pprint(dp)\n",
    "    return ans * ans"
   ]
  },
  {
   "cell_type": "code",
   "execution_count": 88,
   "metadata": {},
   "outputs": [
    {
     "name": "stdout",
     "output_type": "stream",
     "text": [
      "[[0, 1, 1, 1], [1, 1, 1, 1], [1, 1, 1, 1], [0, 0, 1, 0]]\n",
      "[[0, 0, 0, 0, 0],\n",
      " [0, 0, 1, 1, 1],\n",
      " [0, 1, 1, 2, 2],\n",
      " [0, 1, 2, 2, 3],\n",
      " [0, 0, 0, 1, 0]]\n"
     ]
    },
    {
     "data": {
      "text/plain": [
       "9"
      ]
     },
     "execution_count": 88,
     "metadata": {},
     "output_type": "execute_result"
    }
   ],
   "source": [
    "solution([[0,1,1,1],[1,1,1,1],[1,1,1,1],[0,0,1,0]])"
   ]
  },
  {
   "cell_type": "code",
   "execution_count": 89,
   "metadata": {},
   "outputs": [
    {
     "name": "stdout",
     "output_type": "stream",
     "text": [
      "[[0, 0, 1, 1], [1, 1, 1, 1]]\n",
      "[[0, 0, 0, 0, 0], [0, 0, 0, 1, 1], [0, 1, 1, 1, 2]]\n"
     ]
    },
    {
     "data": {
      "text/plain": [
       "4"
      ]
     },
     "execution_count": 89,
     "metadata": {},
     "output_type": "execute_result"
    }
   ],
   "source": [
    "solution([[0,0,1,1],[1,1,1,1]])"
   ]
  },
  {
   "cell_type": "code",
   "execution_count": null,
   "metadata": {},
   "outputs": [],
   "source": []
  }
 ],
 "metadata": {
  "kernelspec": {
   "display_name": "Python 3",
   "language": "python",
   "name": "python3"
  },
  "language_info": {
   "codemirror_mode": {
    "name": "ipython",
    "version": 3
   },
   "file_extension": ".py",
   "mimetype": "text/x-python",
   "name": "python",
   "nbconvert_exporter": "python",
   "pygments_lexer": "ipython3",
   "version": "3.6.8"
  }
 },
 "nbformat": 4,
 "nbformat_minor": 2
}
